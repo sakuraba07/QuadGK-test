{
 "cells": [
  {
   "cell_type": "code",
   "execution_count": null,
   "id": "d484d813",
   "metadata": {},
   "outputs": [],
   "source": [
    "using QuadGK\n",
    "using LinearAlgebra\n",
    "using Plots\n",
    "using FastGaussQuadrature\n",
    "using HCubature"
   ]
  },
  {
   "cell_type": "markdown",
   "id": "89264d4d",
   "metadata": {},
   "source": [
    "-1~1の半径1の円の面積(積分)"
   ]
  },
  {
   "cell_type": "code",
   "execution_count": null,
   "id": "dcca1712",
   "metadata": {},
   "outputs": [],
   "source": [
    "area = pi / 2\n",
    "println(\"Area of the circle: \", area)"
   ]
  },
  {
   "cell_type": "markdown",
   "id": "1741f637",
   "metadata": {},
   "source": [
    "`FastGaussQuadrature`を用いた積分"
   ]
  },
  {
   "cell_type": "code",
   "execution_count": null,
   "id": "065eacfc",
   "metadata": {},
   "outputs": [],
   "source": [
    "n = 100\n",
    "x, w = gausslegendre(n)\n",
    "f(x) = sqrt(1 - x^2)\n",
    "integral1 = sum(w .* f.(x))\n",
    "println(\"Integral using Gauss-Legendre: \", integral1)"
   ]
  },
  {
   "cell_type": "markdown",
   "id": "456bef41",
   "metadata": {},
   "source": [
    "`QuadGK`を用いた積分"
   ]
  },
  {
   "cell_type": "code",
   "execution_count": null,
   "id": "ac8e14f1",
   "metadata": {},
   "outputs": [],
   "source": [
    "integral2, err2 = quadgk(x -> sqrt(1 - x^2), -1, 1, rtol=1e-10)\n",
    "println(\"Integral of sqrt(1 - x^2) from -1 to 1: \", integral2, \" with error: \", err2)"
   ]
  },
  {
   "cell_type": "markdown",
   "id": "c9838c3f",
   "metadata": {},
   "source": [
    "`HCubature`を用いた二重指数型積分の実装"
   ]
  },
  {
   "cell_type": "code",
   "execution_count": null,
   "id": "72601a1e",
   "metadata": {},
   "outputs": [],
   "source": [
    "integral3, err3 = hcubature(x -> sqrt(1 - x[1]^2), [-1.0], [1.0], rtol=1e-10)\n",
    "println(\"HCubature integral of sqrt(1 - x^2) from -1 to 1: \", integral3, \" with error: \", err3)"
   ]
  }
 ],
 "metadata": {
  "kernelspec": {
   "display_name": "Julia 1.11.5",
   "language": "julia",
   "name": "julia-1.11"
  },
  "language_info": {
   "file_extension": ".jl",
   "mimetype": "application/julia",
   "name": "julia",
   "version": "1.11.5"
  }
 },
 "nbformat": 4,
 "nbformat_minor": 5
}
