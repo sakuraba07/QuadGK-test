{
 "cells": [
  {
   "cell_type": "code",
   "execution_count": 11,
   "id": "d484d813",
   "metadata": {},
   "outputs": [],
   "source": [
    "using QuadGK\n",
    "using LinearAlgebra\n",
    "using Plots\n",
    "using FastGaussQuadrature\n",
    "using HCubature"
   ]
  },
  {
   "cell_type": "markdown",
   "id": "456bef41",
   "metadata": {},
   "source": [
    "`QuadGK`を用いた積分"
   ]
  },
  {
   "cell_type": "code",
   "execution_count": 12,
   "id": "ac8e14f1",
   "metadata": {},
   "outputs": [
    {
     "data": {
      "text/plain": [
       "(0.7853981634006569, 5.568887000661535e-11)"
      ]
     },
     "metadata": {},
     "output_type": "display_data"
    }
   ],
   "source": [
    "integral1, err1 = quadgk(x -> sqrt(1 - x^2), 0, 1, rtol=1e-10)"
   ]
  },
  {
   "cell_type": "markdown",
   "id": "c9838c3f",
   "metadata": {},
   "source": [
    "`HCubature`を用いた二重指数型積分の実装"
   ]
  },
  {
   "cell_type": "code",
   "execution_count": 13,
   "id": "72601a1e",
   "metadata": {},
   "outputs": [
    {
     "data": {
      "text/plain": [
       "(0.7853981634006569, 5.568890955167198e-11)"
      ]
     },
     "metadata": {},
     "output_type": "display_data"
    }
   ],
   "source": [
    "integral2, err2 = hcubature(x -> sqrt(1 - x[1]^2), [0.0], [1.0], rtol=1e-10)"
   ]
  }
 ],
 "metadata": {
  "kernelspec": {
   "display_name": "Julia 1.11.5",
   "language": "julia",
   "name": "julia-1.11"
  },
  "language_info": {
   "file_extension": ".jl",
   "mimetype": "application/julia",
   "name": "julia",
   "version": "1.11.5"
  }
 },
 "nbformat": 4,
 "nbformat_minor": 5
}
