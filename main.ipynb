{
 "cells": [
  {
   "cell_type": "code",
   "execution_count": 10,
   "id": "d484d813",
   "metadata": {},
   "outputs": [],
   "source": [
    "using QuadGK\n",
    "using LinearAlgebra\n",
    "using Plots\n",
    "using FastGaussQuadrature\n",
    "using HCubature"
   ]
  },
  {
   "cell_type": "markdown",
   "id": "89264d4d",
   "metadata": {},
   "source": [
    "-1~1の半径1の円の面積(積分)"
   ]
  },
  {
   "cell_type": "code",
   "execution_count": 11,
   "id": "dcca1712",
   "metadata": {},
   "outputs": [
    {
     "name": "stdout",
     "output_type": "stream",
     "text": [
      "Area of the circle: 1.5707963267948966\n"
     ]
    }
   ],
   "source": [
    "area = pi / 2\n",
    "println(\"Area of the circle: \", area)"
   ]
  },
  {
   "cell_type": "markdown",
   "id": "456bef41",
   "metadata": {},
   "source": [
    "`QuadGK`を用いた積分"
   ]
  },
  {
   "cell_type": "code",
   "execution_count": 12,
   "id": "ac8e14f1",
   "metadata": {},
   "outputs": [
    {
     "name": "stdout",
     "output_type": "stream",
     "text": [
      "Integral of sqrt(1 - x^2) from -1 to 1: 1.5707963268013143 with error: 1.113777400132307e-10\n"
     ]
    }
   ],
   "source": [
    "integral1, err1 = quadgk(x -> sqrt(1 - x^2), -1, 1, rtol=1e-10)\n",
    "println(\"Integral of sqrt(1 - x^2) from -1 to 1: \", integral1, \" with error: \", err1)"
   ]
  },
  {
   "cell_type": "markdown",
   "id": "c9838c3f",
   "metadata": {},
   "source": [
    "`HCubature`を用いた二重指数型積分の実装"
   ]
  },
  {
   "cell_type": "code",
   "execution_count": 13,
   "id": "72601a1e",
   "metadata": {},
   "outputs": [
    {
     "name": "stdout",
     "output_type": "stream",
     "text": [
      "HCubature integral of sqrt(1 - x^2) from -1 to 1: 1.570796326801314 with error: 1.1137781910334396e-10\n"
     ]
    }
   ],
   "source": [
    "integral2, err2 = hcubature(x -> sqrt(1 - x[1]^2), [-1.0], [1.0], rtol=1e-10)\n",
    "println(\"HCubature integral of sqrt(1 - x^2) from -1 to 1: \", integral2, \" with error: \", err2)"
   ]
  }
 ],
 "metadata": {
  "kernelspec": {
   "display_name": "Julia 1.11.5",
   "language": "julia",
   "name": "julia-1.11"
  },
  "language_info": {
   "file_extension": ".jl",
   "mimetype": "application/julia",
   "name": "julia",
   "version": "1.11.5"
  }
 },
 "nbformat": 4,
 "nbformat_minor": 5
}
